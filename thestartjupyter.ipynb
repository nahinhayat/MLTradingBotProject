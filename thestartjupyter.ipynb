{
 "cells": [
  {
   "cell_type": "code",
   "execution_count": 82,
   "id": "43a9e086-e6a2-4e45-a364-716d18421378",
   "metadata": {},
   "outputs": [],
   "source": [
    "#imports\n",
    "import pandas as pd\n",
    "import requests\n",
    "import json\n",
    "import streamlit as st\n",
    "import numpy as np\n",
    "import yfinance as yf\n",
    "from datetime import date\n",
    "import streamlit as st\n",
    "from pandas.tseries.offsets import DateOffset\n",
    "from sklearn.preprocessing import StandardScaler\n",
    "from sklearn import svm\n",
    "from sklearn.metrics import classification_report"
   ]
  },
  {
   "cell_type": "code",
   "execution_count": 83,
   "id": "7d27d253-7d2a-4e2b-946a-81dadd1fdccf",
   "metadata": {},
   "outputs": [],
   "source": [
    "#ticker_input = st.text_input(\"Enter the ticker for your stock of choice\")"
   ]
  },
  {
   "cell_type": "code",
   "execution_count": 84,
   "id": "ed274cf4-bbe3-47fc-b4aa-0b4fae41ad67",
   "metadata": {},
   "outputs": [
    {
     "data": {
      "text/html": [
       "<div>\n",
       "<style scoped>\n",
       "    .dataframe tbody tr th:only-of-type {\n",
       "        vertical-align: middle;\n",
       "    }\n",
       "\n",
       "    .dataframe tbody tr th {\n",
       "        vertical-align: top;\n",
       "    }\n",
       "\n",
       "    .dataframe thead th {\n",
       "        text-align: right;\n",
       "    }\n",
       "</style>\n",
       "<table border=\"1\" class=\"dataframe\">\n",
       "  <thead>\n",
       "    <tr style=\"text-align: right;\">\n",
       "      <th></th>\n",
       "      <th>Close</th>\n",
       "    </tr>\n",
       "    <tr>\n",
       "      <th>timestamp</th>\n",
       "      <th></th>\n",
       "    </tr>\n",
       "  </thead>\n",
       "  <tbody>\n",
       "    <tr>\n",
       "      <th>2023-07-13 00:00:00-04:00</th>\n",
       "      <td>4510.040039</td>\n",
       "    </tr>\n",
       "    <tr>\n",
       "      <th>2023-07-14 00:00:00-04:00</th>\n",
       "      <td>4505.419922</td>\n",
       "    </tr>\n",
       "    <tr>\n",
       "      <th>2023-07-17 00:00:00-04:00</th>\n",
       "      <td>4522.790039</td>\n",
       "    </tr>\n",
       "    <tr>\n",
       "      <th>2023-07-18 00:00:00-04:00</th>\n",
       "      <td>4554.979980</td>\n",
       "    </tr>\n",
       "    <tr>\n",
       "      <th>2023-07-19 00:00:00-04:00</th>\n",
       "      <td>4565.720215</td>\n",
       "    </tr>\n",
       "  </tbody>\n",
       "</table>\n",
       "</div>"
      ],
      "text/plain": [
       "                                 Close\n",
       "timestamp                             \n",
       "2023-07-13 00:00:00-04:00  4510.040039\n",
       "2023-07-14 00:00:00-04:00  4505.419922\n",
       "2023-07-17 00:00:00-04:00  4522.790039\n",
       "2023-07-18 00:00:00-04:00  4554.979980\n",
       "2023-07-19 00:00:00-04:00  4565.720215"
      ]
     },
     "execution_count": 84,
     "metadata": {},
     "output_type": "execute_result"
    }
   ],
   "source": [
    "#import stock close price\n",
    "today = date.today()\n",
    "starter_ticker = yf.Ticker(\"^GSPC\")\n",
    "asset_df = starter_ticker.history(period=\"1d\", start=\"2000-01-01\", end=today).drop(columns=[\"Dividends\",\"Stock Splits\",\"Open\", \"High\",\"Low\",\"Volume\"])\n",
    "asset_df.index.names = [\"timestamp\"]\n",
    "asset_df.tail()"
   ]
  },
  {
   "cell_type": "code",
   "execution_count": 85,
   "id": "1d04c07a-5cef-44a1-aeb2-a65be501ae93",
   "metadata": {},
   "outputs": [],
   "source": [
    "#add Actual Returns column\n",
    "asset_df[\"Actual Returns\"] = asset_df[\"Close\"].pct_change()"
   ]
  },
  {
   "cell_type": "code",
   "execution_count": 86,
   "id": "d107c5ff-6e7e-42c8-823a-59981759fc57",
   "metadata": {},
   "outputs": [],
   "source": [
    "#create columns for SMA_fast and SMA_slow\n",
    "short_window = 4\n",
    "long_window = 100\n",
    "asset_df[\"SMA_Fast\"] = asset_df['Close'].rolling(window=short_window).mean()\n",
    "asset_df[\"SMA_Slow\"] = asset_df['Close'].rolling(window=long_window).mean()"
   ]
  },
  {
   "cell_type": "code",
   "execution_count": 87,
   "id": "f607d144-01e9-4327-a481-2caeb0629e76",
   "metadata": {},
   "outputs": [],
   "source": [
    "#create signal column\n",
    "asset_df['Signal'] = 0.0\n",
    "asset_df.loc[(asset_df['Actual Returns'] >= 0), 'Signal'] = 1\n",
    "asset_df.loc[(asset_df['Actual Returns'] < 0), 'Signal'] = -1"
   ]
  },
  {
   "cell_type": "code",
   "execution_count": 88,
   "id": "91e4dba9-d800-462b-8d0f-da9839fca6db",
   "metadata": {},
   "outputs": [],
   "source": [
    "#create feature and target sets\n",
    "X = asset_df[['SMA_Fast', 'SMA_Slow']].shift().dropna()\n",
    "y = asset_df['Signal']"
   ]
  },
  {
   "cell_type": "code",
   "execution_count": 89,
   "id": "dee3e737-9b4c-464c-ac5f-23fe988fd8a5",
   "metadata": {},
   "outputs": [],
   "source": [
    "#create X and y train DataFrames\n",
    "training_begin = X.index.min()\n",
    "training_end = X.index.min() + DateOffset(years = 18)\n",
    "X_train = X.loc[training_begin:training_end]\n",
    "y_train = y.loc[training_begin:training_end]"
   ]
  },
  {
   "cell_type": "code",
   "execution_count": 90,
   "id": "0a25b6cf-9cd1-439c-81ed-0d9cb10a3cf1",
   "metadata": {},
   "outputs": [],
   "source": [
    "#create test DataFrames\n",
    "X_test = X.loc[training_end+DateOffset(hours=1):]\n",
    "y_test = y.loc[training_end+DateOffset(hours=1):]"
   ]
  },
  {
   "cell_type": "code",
   "execution_count": 91,
   "id": "9bb584b8-4bba-4cc9-99a1-f10ed1c709f3",
   "metadata": {},
   "outputs": [],
   "source": [
    "#scale the features\n",
    "scaler = StandardScaler()\n",
    "X_scaler = scaler.fit(X_train)\n",
    "X_train_scaled = X_scaler.transform(X_train)\n",
    "X_test_scaled = X_scaler.transform(X_test)"
   ]
  },
  {
   "cell_type": "code",
   "execution_count": 92,
   "id": "37e6a939-f3d7-4808-9721-8403af74a39d",
   "metadata": {},
   "outputs": [
    {
     "data": {
      "text/plain": [
       "array([1., 1., 1., 1., 1., 1., 1., 1., 1., 1.])"
      ]
     },
     "execution_count": 92,
     "metadata": {},
     "output_type": "execute_result"
    }
   ],
   "source": [
    "#use SCV model\n",
    "svm_model = svm.SVC()\n",
    "svm_model = svm_model.fit(X_train_scaled, y_train)\n",
    "svm_pred = svm_model.predict(X_test_scaled)\n",
    "svm_pred[:10]"
   ]
  },
  {
   "cell_type": "code",
   "execution_count": 94,
   "id": "9357611f-a4c7-479e-b11a-9da1eee2053f",
   "metadata": {},
   "outputs": [
    {
     "name": "stdout",
     "output_type": "stream",
     "text": [
      "              precision    recall  f1-score   support\n",
      "\n",
      "        -1.0       0.00      0.00      0.00       599\n",
      "         1.0       0.54      1.00      0.70       695\n",
      "\n",
      "    accuracy                           0.54      1294\n",
      "   macro avg       0.27      0.50      0.35      1294\n",
      "weighted avg       0.29      0.54      0.38      1294\n",
      "\n"
     ]
    },
    {
     "name": "stderr",
     "output_type": "stream",
     "text": [
      "/Users/nahinhayat/opt/anaconda3/lib/python3.9/site-packages/sklearn/metrics/_classification.py:1318: UndefinedMetricWarning: Precision and F-score are ill-defined and being set to 0.0 in labels with no predicted samples. Use `zero_division` parameter to control this behavior.\n",
      "  _warn_prf(average, modifier, msg_start, len(result))\n",
      "/Users/nahinhayat/opt/anaconda3/lib/python3.9/site-packages/sklearn/metrics/_classification.py:1318: UndefinedMetricWarning: Precision and F-score are ill-defined and being set to 0.0 in labels with no predicted samples. Use `zero_division` parameter to control this behavior.\n",
      "  _warn_prf(average, modifier, msg_start, len(result))\n",
      "/Users/nahinhayat/opt/anaconda3/lib/python3.9/site-packages/sklearn/metrics/_classification.py:1318: UndefinedMetricWarning: Precision and F-score are ill-defined and being set to 0.0 in labels with no predicted samples. Use `zero_division` parameter to control this behavior.\n",
      "  _warn_prf(average, modifier, msg_start, len(result))\n"
     ]
    }
   ],
   "source": [
    "#review class report from model predictions\n",
    "svm_testing_report = classification_report(y_test, svm_pred)\n",
    "print(svm_testing_report)"
   ]
  },
  {
   "cell_type": "code",
   "execution_count": null,
   "id": "5db72bf1-de20-4b26-be07-f53617e30b88",
   "metadata": {},
   "outputs": [],
   "source": []
  },
  {
   "cell_type": "code",
   "execution_count": null,
   "id": "f87c6ece-f7ae-42f1-a9a1-f103fdc21587",
   "metadata": {},
   "outputs": [],
   "source": [
    "#if st.button(\"Display Close Price\"):\n",
    "    st.write(asset_close__df.tail())"
   ]
  },
  {
   "cell_type": "code",
   "execution_count": null,
   "id": "adcca857-5b25-40a6-bf97-5f80c250a3d8",
   "metadata": {},
   "outputs": [],
   "source": []
  }
 ],
 "metadata": {
  "kernelspec": {
   "display_name": "Python 3 (ipykernel)",
   "language": "python",
   "name": "python3"
  },
  "language_info": {
   "codemirror_mode": {
    "name": "ipython",
    "version": 3
   },
   "file_extension": ".py",
   "mimetype": "text/x-python",
   "name": "python",
   "nbconvert_exporter": "python",
   "pygments_lexer": "ipython3",
   "version": "3.9.13"
  }
 },
 "nbformat": 4,
 "nbformat_minor": 5
}
